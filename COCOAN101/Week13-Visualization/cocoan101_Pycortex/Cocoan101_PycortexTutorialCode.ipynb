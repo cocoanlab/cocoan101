{
 "cells": [
  {
   "cell_type": "markdown",
   "metadata": {},
   "source": [
    "# Installation"
   ]
  },
  {
   "cell_type": "markdown",
   "metadata": {},
   "source": [
    "To install the stable release version of pycortex, do the following:"
   ]
  },
  {
   "cell_type": "code",
   "execution_count": 41,
   "metadata": {},
   "outputs": [
    {
     "name": "stdout",
     "output_type": "stream",
     "text": [
      "Requirement already satisfied: setuptools in /opt/anaconda3/lib/python3.7/site-packages (56.2.0)\n",
      "Requirement already satisfied: wheel in /opt/anaconda3/lib/python3.7/site-packages (0.36.2)\n",
      "Requirement already satisfied: numpy in /opt/anaconda3/lib/python3.7/site-packages (1.20.3)\n",
      "Requirement already satisfied: cython in /opt/anaconda3/lib/python3.7/site-packages (0.29.23)\n"
     ]
    }
   ],
   "source": [
    "# First, install some required dependencies\n",
    "!pip install setuptools wheel numpy cython"
   ]
  },
  {
   "cell_type": "code",
   "execution_count": 42,
   "metadata": {},
   "outputs": [
    {
     "name": "stdout",
     "output_type": "stream",
     "text": [
      "Requirement already satisfied: pycortex in /opt/anaconda3/lib/python3.7/site-packages (1.2.1)\n",
      "Requirement already satisfied: numpy in /opt/anaconda3/lib/python3.7/site-packages (from pycortex) (1.20.3)\n",
      "Requirement already satisfied: matplotlib in /opt/anaconda3/lib/python3.7/site-packages (from pycortex) (3.3.1)\n",
      "Requirement already satisfied: cython in /opt/anaconda3/lib/python3.7/site-packages (from pycortex) (0.29.23)\n",
      "Requirement already satisfied: html5lib in /opt/anaconda3/lib/python3.7/site-packages (from pycortex) (1.0.1)\n",
      "Requirement already satisfied: networkx>=2.1 in /opt/anaconda3/lib/python3.7/site-packages (from pycortex) (2.1)\n",
      "Requirement already satisfied: lxml in /opt/anaconda3/lib/python3.7/site-packages (from pycortex) (4.5.0)\n",
      "Requirement already satisfied: imageio in /opt/anaconda3/lib/python3.7/site-packages (from pycortex) (2.6.1)\n",
      "Requirement already satisfied: tornado>=4.3 in /opt/anaconda3/lib/python3.7/site-packages (from pycortex) (6.0.3)\n",
      "Requirement already satisfied: nibabel in /opt/anaconda3/lib/python3.7/site-packages (from pycortex) (3.1.1)\n",
      "Requirement already satisfied: pillow in /opt/anaconda3/lib/python3.7/site-packages (from pycortex) (7.0.0)\n",
      "Requirement already satisfied: scipy in /opt/anaconda3/lib/python3.7/site-packages (from pycortex) (1.4.1)\n",
      "Requirement already satisfied: numexpr in /opt/anaconda3/lib/python3.7/site-packages (from pycortex) (2.7.1)\n",
      "Requirement already satisfied: h5py in /opt/anaconda3/lib/python3.7/site-packages (from pycortex) (2.10.0)\n",
      "Requirement already satisfied: shapely in /opt/anaconda3/lib/python3.7/site-packages (from pycortex) (1.7.1)\n",
      "Requirement already satisfied: future in /opt/anaconda3/lib/python3.7/site-packages (from pycortex) (0.18.2)\n",
      "Requirement already satisfied: wget in /opt/anaconda3/lib/python3.7/site-packages (from pycortex) (3.2)\n",
      "Requirement already satisfied: kiwisolver>=1.0.1 in /opt/anaconda3/lib/python3.7/site-packages (from matplotlib->pycortex) (1.1.0)\n",
      "Requirement already satisfied: python-dateutil>=2.1 in /opt/anaconda3/lib/python3.7/site-packages (from matplotlib->pycortex) (2.8.1)\n",
      "Requirement already satisfied: certifi>=2020.06.20 in /opt/anaconda3/lib/python3.7/site-packages (from matplotlib->pycortex) (2020.12.5)\n",
      "Requirement already satisfied: cycler>=0.10 in /opt/anaconda3/lib/python3.7/site-packages (from matplotlib->pycortex) (0.10.0)\n",
      "Requirement already satisfied: pyparsing!=2.0.4,!=2.1.2,!=2.1.6,>=2.0.3 in /opt/anaconda3/lib/python3.7/site-packages (from matplotlib->pycortex) (2.4.6)\n",
      "Requirement already satisfied: webencodings in /opt/anaconda3/lib/python3.7/site-packages (from html5lib->pycortex) (0.5.1)\n",
      "Requirement already satisfied: six>=1.9 in /opt/anaconda3/lib/python3.7/site-packages (from html5lib->pycortex) (1.14.0)\n",
      "Requirement already satisfied: decorator>=4.1.0 in /opt/anaconda3/lib/python3.7/site-packages (from networkx>=2.1->pycortex) (4.4.1)\n",
      "Requirement already satisfied: packaging>=14.3 in /opt/anaconda3/lib/python3.7/site-packages (from nibabel->pycortex) (20.1)\n",
      "Requirement already satisfied: setuptools in /opt/anaconda3/lib/python3.7/site-packages (from kiwisolver>=1.0.1->matplotlib->pycortex) (56.2.0)\n"
     ]
    }
   ],
   "source": [
    "# Install the latest release of pycortex from pip\n",
    "!pip install pycortex"
   ]
  },
  {
   "cell_type": "markdown",
   "metadata": {},
   "source": [
    "## Basic Configuration"
   ]
  },
  {
   "cell_type": "markdown",
   "metadata": {},
   "source": [
    "To test if your install went well, you can run the pycortex"
   ]
  },
  {
   "cell_type": "code",
   "execution_count": 1,
   "metadata": {},
   "outputs": [],
   "source": [
    "import cortex"
   ]
  },
  {
   "cell_type": "markdown",
   "metadata": {},
   "source": [
    "Pycortex will automatically create a database filestore when it is first installed. \n",
    "\n",
    "You can check the location of the filestore after installing by running:"
   ]
  },
  {
   "cell_type": "code",
   "execution_count": 44,
   "metadata": {},
   "outputs": [
    {
     "data": {
      "text/plain": [
       "'/Users/freez1/pycortex/filestore/db'"
      ]
     },
     "execution_count": 44,
     "metadata": {},
     "output_type": "execute_result"
    }
   ],
   "source": [
    "cortex.database.default_filestore"
   ]
  },
  {
   "cell_type": "markdown",
   "metadata": {},
   "source": [
    "If you want to move the filestore, you need to update the user configuration file.\n",
    "\n",
    "you can check the location of the configuration file by running:"
   ]
  },
  {
   "cell_type": "code",
   "execution_count": 45,
   "metadata": {},
   "outputs": [
    {
     "data": {
      "text/plain": [
       "'/Users/freez1/Library/Application Support/pycortex/options.cfg'"
      ]
     },
     "execution_count": 45,
     "metadata": {},
     "output_type": "execute_result"
    }
   ],
   "source": [
    "cortex.options.usercfg"
   ]
  },
  {
   "cell_type": "markdown",
   "metadata": {},
   "source": [
    "## Surface Database"
   ]
  },
  {
   "cell_type": "markdown",
   "metadata": {},
   "source": [
    "Pycortex creates and maintains a simple flat-file database store all the data required to plot data on a cortical sheet."
   ]
  },
  {
   "cell_type": "markdown",
   "metadata": {},
   "source": [
    "you can download the MNI surface database from : https://github.com/eigenz1/Pycortex_tutorial"
   ]
  },
  {
   "cell_type": "markdown",
   "metadata": {},
   "source": [
    "## Surfaces"
   ]
  },
  {
   "cell_type": "markdown",
   "metadata": {},
   "source": [
    "Inside the filestore, surface names are formatted as {type}_{hemisphere}.{format}. Surfaces generally have three variables associated:\n",
    "\n",
    "- Subject : a unique subject identifier (MNI in our tutorial)\n",
    "\n",
    "- Type : the identifier for the type of geometry (fiducial, inflated, or flat)\n",
    "\n",
    "- Hemisphere : the brain hemisphere of the surface, (lh or rh)"
   ]
  },
  {
   "cell_type": "code",
   "execution_count": 39,
   "metadata": {},
   "outputs": [
    {
     "name": "stdout",
     "output_type": "stream",
     "text": [
      "\u001b[01;34m/Users/freez1/pycortex/filestore/db/MNI/surfaces/\u001b[00m\n",
      "├── flat_lh.gii\n",
      "├── flat_rh.gii\n",
      "├── inflated_lh.gii\n",
      "├── inflated_rh.gii\n",
      "├── pia_lh.gii\n",
      "├── pia_rh.gii\n",
      "├── wm_lh.gii\n",
      "└── wm_rh.gii\n",
      "\n",
      "0 directories, 8 files\n"
     ]
    }
   ],
   "source": [
    "!tree /Users/freez1/pycortex/filestore/db/MNI/surfaces/"
   ]
  },
  {
   "cell_type": "code",
   "execution_count": 40,
   "metadata": {},
   "outputs": [
    {
     "data": {
      "text/plain": [
       "Surfaces: [flat, wm, pia, inflated]"
      ]
     },
     "execution_count": 40,
     "metadata": {},
     "output_type": "execute_result"
    }
   ],
   "source": [
    "# Selecting “surfaces” gives you a list of all surface types associated with that subject(MNI).\n",
    "cortex.db.MNI.surfaces"
   ]
  },
  {
   "cell_type": "markdown",
   "metadata": {},
   "source": [
    "## Transform"
   ]
  },
  {
   "cell_type": "markdown",
   "metadata": {},
   "source": [
    "Transformations in pycortex are stored as affine matrices, as defined in the Nifti headers.\n",
    "\n",
    "Each transform is stored in its own subdirectory containing two files"
   ]
  },
  {
   "cell_type": "code",
   "execution_count": 3,
   "metadata": {},
   "outputs": [
    {
     "name": "stdout",
     "output_type": "stream",
     "text": [
      "\u001b[01;34m/Users/freez1/pycortex/filestore/db/MNI/transforms\u001b[00m\n",
      "└── \u001b[01;34mtutorial\u001b[00m\n",
      "    ├── matrices.xfm\n",
      "    └── \u001b[01;31mreference.nii.gz\u001b[00m\n",
      "\n",
      "1 directory, 2 files\n"
     ]
    }
   ],
   "source": [
    "!tree /Users/freez1/pycortex/filestore/db/MNI/transforms"
   ]
  },
  {
   "cell_type": "code",
   "execution_count": null,
   "metadata": {},
   "outputs": [],
   "source": []
  },
  {
   "cell_type": "code",
   "execution_count": null,
   "metadata": {},
   "outputs": [],
   "source": []
  },
  {
   "cell_type": "code",
   "execution_count": null,
   "metadata": {},
   "outputs": [],
   "source": []
  },
  {
   "cell_type": "code",
   "execution_count": null,
   "metadata": {},
   "outputs": [],
   "source": []
  },
  {
   "cell_type": "code",
   "execution_count": null,
   "metadata": {},
   "outputs": [],
   "source": []
  },
  {
   "cell_type": "code",
   "execution_count": null,
   "metadata": {},
   "outputs": [],
   "source": []
  },
  {
   "cell_type": "code",
   "execution_count": null,
   "metadata": {},
   "outputs": [],
   "source": []
  },
  {
   "cell_type": "code",
   "execution_count": null,
   "metadata": {},
   "outputs": [],
   "source": []
  },
  {
   "cell_type": "code",
   "execution_count": null,
   "metadata": {},
   "outputs": [],
   "source": []
  },
  {
   "cell_type": "code",
   "execution_count": null,
   "metadata": {},
   "outputs": [],
   "source": []
  },
  {
   "cell_type": "code",
   "execution_count": null,
   "metadata": {},
   "outputs": [],
   "source": []
  },
  {
   "cell_type": "markdown",
   "metadata": {},
   "source": [
    "# Visualization"
   ]
  },
  {
   "cell_type": "code",
   "execution_count": 4,
   "metadata": {},
   "outputs": [],
   "source": [
    "import cortex\n",
    "import numpy as np\n",
    "import nibabel as nib"
   ]
  },
  {
   "cell_type": "markdown",
   "metadata": {},
   "source": [
    "In order for following codes to run, you should have a flatmap for this subject in the pycortex filestore."
   ]
  },
  {
   "cell_type": "markdown",
   "metadata": {},
   "source": [
    "FYI, the reference image for this tutorial transform has shape of (79, 95, 79).\n",
    "\n",
    "if your 3d image has shape of (91, 109, 91), you have to resample that image to shape of (79, 95, 79) as same as the reference for transform"
   ]
  },
  {
   "cell_type": "markdown",
   "metadata": {},
   "source": [
    "## 1. Ramdom data"
   ]
  },
  {
   "cell_type": "code",
   "execution_count": 23,
   "metadata": {},
   "outputs": [
    {
     "name": "stdout",
     "output_type": "stream",
     "text": [
      "(79, 95, 79)\n"
     ]
    }
   ],
   "source": [
    "reference = nib.load(\"/Users/freez1/pycortex/filestore/db/MNI/transforms/tutorial/reference.nii.gz\")\n",
    "print(reference.shape)"
   ]
  },
  {
   "cell_type": "code",
   "execution_count": 5,
   "metadata": {},
   "outputs": [],
   "source": [
    "subject = 'MNI'\n",
    "transform = 'tutorial'\n",
    "\n",
    "# Creating a random dataset that is the same shape as reference for transform\n",
    "test_data = np.random.randn(79, 95, 79)"
   ]
  },
  {
   "cell_type": "markdown",
   "metadata": {},
   "source": [
    "*Volume* module creates a Volume object for our test dataset for the given subject"
   ]
  },
  {
   "cell_type": "code",
   "execution_count": 25,
   "metadata": {},
   "outputs": [
    {
     "name": "stdout",
     "output_type": "stream",
     "text": [
      "Stopping server\n"
     ]
    }
   ],
   "source": [
    "# If you want to get thresholded data, \n",
    "# change the parameters vmin and vmax, then minimum and maximum values shown on the colorbar will be changed.\n",
    "vol_data = cortex.Volume(test_data.transpose(2,1,0), subject, transform, cmap='J4', vmin=-2, vmax=2)"
   ]
  },
  {
   "cell_type": "markdown",
   "metadata": {},
   "source": [
    "Creates a webGL MRI viewer running inside the current python process using the volume object."
   ]
  },
  {
   "cell_type": "code",
   "execution_count": 26,
   "metadata": {},
   "outputs": [
    {
     "name": "stdout",
     "output_type": "stream",
     "text": [
      "Started server on port 51765\n"
     ]
    },
    {
     "data": {
      "text/plain": [
       "<JS: window.viewer>"
      ]
     },
     "execution_count": 26,
     "metadata": {},
     "output_type": "execute_result"
    },
    {
     "name": "stdout",
     "output_type": "stream",
     "text": [
      "Stopping server\n",
      "Stopping server\n"
     ]
    }
   ],
   "source": [
    "cortex.webshow(vol_data)"
   ]
  },
  {
   "cell_type": "markdown",
   "metadata": {},
   "source": [
    "If you have NaN values, those voxels show up transparent on the brain\n"
   ]
  },
  {
   "cell_type": "code",
   "execution_count": 28,
   "metadata": {},
   "outputs": [
    {
     "name": "stdout",
     "output_type": "stream",
     "text": [
      "Started server on port 30093\n"
     ]
    },
    {
     "data": {
      "text/plain": [
       "<JS: window.viewer>"
      ]
     },
     "execution_count": 28,
     "metadata": {},
     "output_type": "execute_result"
    },
    {
     "name": "stdout",
     "output_type": "stream",
     "text": [
      "Stopping server\n",
      "Stopping server\n"
     ]
    }
   ],
   "source": [
    "test_data[10:15, :, :] = np.nan\n",
    "vol_data = cortex.Volume(test_data.transpose(2,1,0), subject, transform, cmap='J4', vmin=-2, vmax=2)\n",
    "cortex.webshow(vol_data)"
   ]
  },
  {
   "cell_type": "markdown",
   "metadata": {},
   "source": [
    "## 2. Real data"
   ]
  },
  {
   "cell_type": "markdown",
   "metadata": {},
   "source": [
    "Instead of the random test data, you can replace this with any numpy array of the correct dimensionality (79, 95, 79)"
   ]
  },
  {
   "cell_type": "code",
   "execution_count": 6,
   "metadata": {},
   "outputs": [
    {
     "name": "stdout",
     "output_type": "stream",
     "text": [
      "(79, 95, 79)\n"
     ]
    }
   ],
   "source": [
    "import nibabel as nib\n",
    "pain_map = nib.load('pain_mega_re.nii').get_fdata() #3d array \n",
    "print(pain_map.shape)\n",
    "vol_data = cortex.Volume(pain_map.transpose(2,1,0), subject, transform,)"
   ]
  },
  {
   "cell_type": "code",
   "execution_count": 7,
   "metadata": {},
   "outputs": [
    {
     "name": "stdout",
     "output_type": "stream",
     "text": [
      "Started server on port 44559\n"
     ]
    },
    {
     "data": {
      "text/plain": [
       "<JS: window.viewer>"
      ]
     },
     "execution_count": 7,
     "metadata": {},
     "output_type": "execute_result"
    }
   ],
   "source": [
    "cortex.webshow(vol_data)"
   ]
  },
  {
   "cell_type": "markdown",
   "metadata": {},
   "source": [
    "## Save views (png format)"
   ]
  },
  {
   "cell_type": "code",
   "execution_count": 35,
   "metadata": {},
   "outputs": [
    {
     "name": "stdout",
     "output_type": "stream",
     "text": [
      "Started server on port 40656\n",
      "{'camera.azimuth': 180, 'camera.altitude': 0, 'camera.target': [0, 0, 0], 'surface.{subject}.unfold': 0.5, 'surface.{subject}.pivot': 0, 'surface.{subject}.shift': 0, 'surface.{subject}.specularity': 0}\n",
      "waiting for camera.altitude 0.1 -> 0\n",
      "{'camera.azimuth': 180, 'camera.altitude': 90, 'camera.target': [0, 0, 0], 'surface.{subject}.unfold': 0.5, 'surface.{subject}.pivot': 0, 'surface.{subject}.shift': 0, 'surface.{subject}.specularity': 0}\n",
      "{'camera.azimuth': 0, 'camera.altitude': 90, 'camera.target': [0, 0, 0], 'surface.{subject}.unfold': 0.5, 'surface.{subject}.pivot': 180, 'surface.{subject}.shift': 10, 'surface.{subject}.specularity': 0}\n",
      "{'camera.azimuth': 180, 'camera.altitude': 90, 'camera.target': [0, 0, 0], 'surface.{subject}.unfold': 0.5, 'surface.{subject}.pivot': 180, 'surface.{subject}.shift': 10, 'surface.{subject}.specularity': 0}\n",
      "Stopping server\n"
     ]
    },
    {
     "data": {
      "text/plain": [
       "['tutorial_pain_top_inflated.png',\n",
       " 'tutorial_pain_back_inflated.png',\n",
       " 'tutorial_pain_medial_pivot_inflated.png',\n",
       " 'tutorial_pain_lateral_pivot_inflated.png']"
      ]
     },
     "execution_count": 35,
     "metadata": {},
     "output_type": "execute_result"
    },
    {
     "name": "stdout",
     "output_type": "stream",
     "text": [
      "Stopping server\n"
     ]
    }
   ],
   "source": [
    "cortex.export.save_3d_views(vol_data,\n",
    "                            base_name='tutorial_pain', \n",
    "                            list_angles=['top','back', 'medial_pivot', 'lateral_pivot'], #medial_pivot or lateral_pivot\n",
    "                            list_surfaces=['inflated','inflated', 'inflated', 'inflated'],# 'inflated', 'flatmap', 'fiducial', 'inflated_cut',\n",
    "                            size=(1024 * 4, 768 * 2),\n",
    "                            trim=True, \n",
    "                            sleep=10)"
   ]
  },
  {
   "cell_type": "code",
   "execution_count": 11,
   "metadata": {},
   "outputs": [
    {
     "name": "stdout",
     "output_type": "stream",
     "text": [
      "Started server on port 53526\n",
      "{'camera.azimuth': 180, 'camera.altitude': 0, 'camera.target': [0, 0, 0], 'surface.{subject}.unfold': 1, 'surface.{subject}.pivot': 180, 'surface.{subject}.shift': 0, 'surface.{subject}.specularity': 0}\n",
      "waiting for camera.altitude 0.1 -> 0\n",
      "Stopping server\n"
     ]
    },
    {
     "data": {
      "text/plain": [
       "['tutorial_pain_flatmap_flatmap.png']"
      ]
     },
     "execution_count": 11,
     "metadata": {},
     "output_type": "execute_result"
    },
    {
     "name": "stdout",
     "output_type": "stream",
     "text": [
      "Stopping server\n"
     ]
    }
   ],
   "source": [
    "cortex.export.save_3d_views(vol_data,\n",
    "                            base_name='tutorial_pain', \n",
    "                            list_surfaces=['flatmap'],# 'inflated', 'flatmap', 'fiducial', 'inflated_cut',\n",
    "                            size=(1024 * 4, 768 * 2),\n",
    "                            trim=True, \n",
    "                            sleep=10)"
   ]
  },
  {
   "cell_type": "markdown",
   "metadata": {},
   "source": [
    "# Citation"
   ]
  },
  {
   "cell_type": "markdown",
   "metadata": {},
   "source": [
    "If you use pycortex in published work, please cite the pycortex paper:\n",
    "\n",
    "*Gao JS, Huth AG, Lescroart MD and Gallant JL (2015) Pycortex: an interactive surface visualizer for fMRI. Front. Neuroinform. 9:23. doi: 10.3389/fninf.2015.00023*"
   ]
  }
 ],
 "metadata": {
  "kernelspec": {
   "display_name": "Python 3",
   "language": "python",
   "name": "python3"
  },
  "language_info": {
   "codemirror_mode": {
    "name": "ipython",
    "version": 3
   },
   "file_extension": ".py",
   "mimetype": "text/x-python",
   "name": "python",
   "nbconvert_exporter": "python",
   "pygments_lexer": "ipython3",
   "version": "3.7.6"
  }
 },
 "nbformat": 4,
 "nbformat_minor": 4
}
